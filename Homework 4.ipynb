{
 "cells": [
  {
   "cell_type": "code",
   "execution_count": null,
   "metadata": {},
   "outputs": [],
   "source": [
    "import re\n",
    "import csv\n",
    "\n",
    "t = open('/home/faculty/millbr02/pub/un-debates-augmented-1.csv','r',encoding='latin-1')\n",
    "csv_iter = csv.reader(t)\n",
    "stupid_list = []\n",
    "db = []\n",
    "for row in csv_iter:\n",
    "        db.append(row)\n",
    "        stupid_list.append(row[4])"
   ]
  },
  {
   "cell_type": "code",
   "execution_count": null,
   "metadata": {},
   "outputs": [],
   "source": [
    "import psycopg2\n",
    "conn = psycopg2.connect(\"postgresql://millbr02:@localhost/world\")\n",
    "curs = conn.cursor()\n",
    "curs.execute(\"select * from country limit 400\")\n",
    "res = curs.fetchall()\n",
    "stupid_dict1 = {}\n",
    "for row in res:\n",
    "    stupid_list.append(row[1])"
   ]
  },
  {
   "cell_type": "code",
   "execution_count": null,
   "metadata": {},
   "outputs": [],
   "source": [
    "stupid_matrix = {x: {} for x in stupid_list}\n",
    "for k in stupid_matrix:\n",
    "    stupid_matrix[k] = {x:0 for x in stupid_list}"
   ]
  },
  {
   "cell_type": "code",
   "execution_count": null,
   "metadata": {},
   "outputs": [],
   "source": [
    "for row in db[1:]:\n",
    "    speech = row[3]\n",
    "    countryspeaking = row[4]\n",
    "    for word in stupid_list:\n",
    "        count = speech.count(word)\n",
    "        stupid_matrix[countryspeaking][word] += count"
   ]
  },
  {
   "cell_type": "code",
   "execution_count": null,
   "metadata": {},
   "outputs": [],
   "source": [
    "mentions = {}\n",
    "for key in stupid_matrix:\n",
    "    for key2 in stupid_matrix[key]:\n",
    "        if key not in mentions:\n",
    "            mentions[key] = [int(stupid_matrix[key][key2])]\n",
    "        else:\n",
    "            mentions[key].append(int(stupid_matrix[key][key2]))"
   ]
  },
  {
   "cell_type": "code",
   "execution_count": null,
   "metadata": {},
   "outputs": [],
   "source": [
    "totalcount = {}        \n",
    "for key in mentions:\n",
    "    count = sum(mentions[key])\n",
    "    totalcount[key] = count"
   ]
  },
  {
   "cell_type": "code",
   "execution_count": null,
   "metadata": {},
   "outputs": [],
   "source": [
    "import requests\n",
    "res = requests.get(\"https://opendata.socrata.com/api/views/mnkm-8ram/rows.json?accessType=DOWNLOAD\")\n",
    "j = res.json()\n",
    "lat_long={}\n",
    "for item in j['data']:\n",
    "    lat_long[item[10]] = {'Lat':item[12], 'Long':item[13]}"
   ]
  },
  {
   "cell_type": "code",
   "execution_count": null,
   "metadata": {},
   "outputs": [],
   "source": [
    "for line in db:\n",
    "    for key in lat_long:\n",
    "        if line[2] == key:\n",
    "            line.insert(3,('Latitude:', lat_long[key]['Lat']))\n",
    "            line.insert(4, ('Longitude: ', lat_long[key]['Long']))\n",
    "    for k in totalcount:\n",
    "        if line[6] == k:\n",
    "            line.insert(6, ('United Nations Mentions (1970 - 2008): ', str(totalcount[k])))"
   ]
  },
  {
   "cell_type": "code",
   "execution_count": null,
   "metadata": {},
   "outputs": [],
   "source": [
    "final_list = []\n",
    "for line in db:\n",
    "    if len(line) < 9:\n",
    "        del line[3]\n",
    "    del line[0]\n",
    "    del line[3]\n",
    "    line[1] = ''.join(line[1])\n",
    "    line[2] = ''.join(line[2])\n",
    "    if len(line) > 3:\n",
    "        line[3] = ''.join(line[3])\n",
    "    final_list.append(line)"
   ]
  },
  {
   "cell_type": "code",
   "execution_count": null,
   "metadata": {},
   "outputs": [],
   "source": [
    "no_doubles = []\n",
    "actual_final_list = []\n",
    "for line in final_list:\n",
    "    if line[0] not in no_doubles:\n",
    "        no_doubles.append(line[0])\n",
    "        actual_final_list.append(line)\n",
    "    else:\n",
    "        pass"
   ]
  },
  {
   "cell_type": "code",
   "execution_count": null,
   "metadata": {},
   "outputs": [],
   "source": [
    "actual_final_list[0] = ['Country code', 'Latitude', 'Longitude', 'Total mentions', 'Country name', 'Region', 'Continent']\n",
    "actual_final_list"
   ]
  }
 ],
 "metadata": {
  "kernelspec": {
   "display_name": "Python 3",
   "language": "python",
   "name": "python3"
  },
  "language_info": {
   "codemirror_mode": {
    "name": "ipython",
    "version": 3
   },
   "file_extension": ".py",
   "mimetype": "text/x-python",
   "name": "python",
   "nbconvert_exporter": "python",
   "pygments_lexer": "ipython3",
   "version": "3.5.1"
  }
 },
 "nbformat": 4,
 "nbformat_minor": 2
}
